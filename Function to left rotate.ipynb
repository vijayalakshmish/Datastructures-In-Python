{
 "cells": [
  {
   "cell_type": "code",
   "execution_count": 1,
   "id": "54440faf-a2b0-4ac1-a3be-5cc7bab52359",
   "metadata": {},
   "outputs": [
    {
     "name": "stdout",
     "output_type": "stream",
     "text": [
      "[3, 4, 5, 1, 2]\n"
     ]
    }
   ],
   "source": [
    "#function to left rotate an array\n",
    "def left_rotate(arr, d):\n",
    "    n = len(arr)\n",
    "    for i in range(d):\n",
    "        first_element = arr.pop(0)\n",
    "        arr.append(first_element)\n",
    "    return arr\n",
    "\n",
    "# Example usage\n",
    "array = [1, 2, 3, 4, 5]\n",
    "rotated_array = left_rotate(array, 2)\n",
    "print(rotated_array) "
   ]
  },
  {
   "cell_type": "code",
   "execution_count": null,
   "id": "9df3e239-6cc8-4bd1-9a17-46a124a068d8",
   "metadata": {},
   "outputs": [],
   "source": []
  }
 ],
 "metadata": {
  "kernelspec": {
   "display_name": "Python 3 (ipykernel)",
   "language": "python",
   "name": "python3"
  },
  "language_info": {
   "codemirror_mode": {
    "name": "ipython",
    "version": 3
   },
   "file_extension": ".py",
   "mimetype": "text/x-python",
   "name": "python",
   "nbconvert_exporter": "python",
   "pygments_lexer": "ipython3",
   "version": "3.11.7"
  }
 },
 "nbformat": 4,
 "nbformat_minor": 5
}
