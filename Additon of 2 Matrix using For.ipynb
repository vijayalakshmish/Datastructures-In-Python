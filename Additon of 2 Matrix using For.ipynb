{
 "cells": [
  {
   "cell_type": "code",
   "execution_count": 1,
   "id": "c3687583-570d-4e2d-a271-659bd74ce9d6",
   "metadata": {},
   "outputs": [
    {
     "name": "stdout",
     "output_type": "stream",
     "text": [
      "52 54 56 \n",
      "72 74 76 \n",
      "92 94 96 \n"
     ]
    }
   ],
   "source": [
    "#Additon of 2 Matrix\n",
    "arr1 = [[11, 12, 13],\n",
    "        [21, 22, 23],\n",
    "        [31, 32, 33]]\n",
    "\n",
    "arr2 = [[41, 42, 43],\n",
    "        [51, 52, 53],\n",
    "        [61, 62, 63]]\n",
    "\n",
    "result = []\n",
    "for i in range(len(arr1)):\n",
    "    row = []\n",
    "    for j in range(len(arr1[0])):\n",
    "        row.append(arr1[i][j] + arr2[i][j])\n",
    "    result.append(row)  # Removed incorrect return statement\n",
    "\n",
    "for i in result:\n",
    "    for j in i:\n",
    "        print(j, end=\" \")\n",
    "    print()  # Prints a new line after each row"
   ]
  },
  {
   "cell_type": "code",
   "execution_count": null,
   "id": "3a8eb847-9665-4377-9f57-2f6bc8fdb4f2",
   "metadata": {},
   "outputs": [],
   "source": []
  }
 ],
 "metadata": {
  "kernelspec": {
   "display_name": "Python 3 (ipykernel)",
   "language": "python",
   "name": "python3"
  },
  "language_info": {
   "codemirror_mode": {
    "name": "ipython",
    "version": 3
   },
   "file_extension": ".py",
   "mimetype": "text/x-python",
   "name": "python",
   "nbconvert_exporter": "python",
   "pygments_lexer": "ipython3",
   "version": "3.11.7"
  }
 },
 "nbformat": 4,
 "nbformat_minor": 5
}
