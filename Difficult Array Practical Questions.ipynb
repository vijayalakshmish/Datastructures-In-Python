{
 "cells": [
  {
   "cell_type": "code",
   "execution_count": 1,
   "id": "6584f3a5-62d7-4df3-9e62-b823205cc5dd",
   "metadata": {},
   "outputs": [
    {
     "name": "stdout",
     "output_type": "stream",
     "text": [
      "Total sales of each employee: [4500, 5500, 4600]\n",
      "Total sales of each month: [3500, 6100, 5000]\n",
      "Total sales of the organization: 14600\n"
     ]
    }
   ],
   "source": [
    "#1. Total Sales of Each Employee, Each Month, and Organization\n",
    "sales = [\n",
    "    [1000, 2000, 1500],  # Employee 1 sales for Jan, Feb, Mar\n",
    "    [1200, 2500, 1800],  # Employee 2 sales\n",
    "    [1300, 1600, 1700]   # Employee 3 sales\n",
    "]\n",
    "\n",
    "total_sales_employee = [sum(emp) for emp in sales]\n",
    "total_sales_month = [sum(sales[i][j] for i in range(len(sales))) for j in range(len(sales[0]))]\n",
    "total_sales_organization = sum(total_sales_employee)\n",
    "\n",
    "print(\"Total sales of each employee:\", total_sales_employee)\n",
    "print(\"Total sales of each month:\", total_sales_month)\n",
    "print(\"Total sales of the organization:\", total_sales_organization)\n",
    "\n"
   ]
  },
  {
   "cell_type": "code",
   "execution_count": 2,
   "id": "e70a896b-7a60-4d5e-b317-2369d2ff218c",
   "metadata": {},
   "outputs": [
    {
     "name": "stdout",
     "output_type": "stream",
     "text": [
      "Determinant: 14\n"
     ]
    }
   ],
   "source": [
    "#2. Determinant of a Matrix (for a 2x2 matrix)\n",
    "matrix = [[4, 3], [2, 5]]\n",
    "determinant = matrix[0][0] * matrix[1][1] - matrix[0][1] * matrix[1][0]\n",
    "print(\"Determinant:\", determinant)  # Output: 14\n"
   ]
  },
  {
   "cell_type": "code",
   "execution_count": 3,
   "id": "79a22c1f-af18-432e-bb02-33460e9fec8b",
   "metadata": {},
   "outputs": [
    {
     "name": "stdout",
     "output_type": "stream",
     "text": [
      "Sum of diagonal elements: 15\n"
     ]
    }
   ],
   "source": [
    "#3. Sum of Diagonal Elements of a Square Matrix\n",
    "matrix = [[1, 2, 3], [4, 5, 6], [7, 8, 9]]\n",
    "sum_diagonal = sum(matrix[i][i] for i in range(len(matrix)))\n",
    "print(\"Sum of diagonal elements:\", sum_diagonal)  # Output: 15\n"
   ]
  },
  {
   "cell_type": "code",
   "execution_count": 4,
   "id": "c44187fc-cc64-4d72-bde5-1600edc98aa1",
   "metadata": {},
   "outputs": [
    {
     "name": "stdout",
     "output_type": "stream",
     "text": [
      "Highest temperature of each city: [40, 40, 39, 39, 39, 39, 39, 39, 40, 40, 39, 40, 39, 40, 40, 40, 40, 40, 40, 40]\n",
      "Day of highest temperature for each city: [23, 31, 27, 2, 12, 21, 21, 11, 17, 3, 5, 17, 24, 2, 2, 15, 6, 29, 19, 1]\n",
      "Average maximum temperature of each city: [31.032258064516128, 28.741935483870968, 29.29032258064516, 27.612903225806452, 30.483870967741936, 29.903225806451612, 27.903225806451612, 30.322580645161292, 29.29032258064516, 30.903225806451612, 28.516129032258064, 31.64516129032258, 28.161290322580644, 29.838709677419356, 31.06451612903226, 31.516129032258064, 31.774193548387096, 30.35483870967742, 30.225806451612904, 30.70967741935484]\n"
     ]
    }
   ],
   "source": [
    "#4. Maximum Temperature Analysis for 20 Cities\n",
    "import random\n",
    "\n",
    "temps = [[random.randint(20, 40) for _ in range(31)] for _ in range(20)]  # 20 cities, 31 days\n",
    "\n",
    "highest_temp_each_city = [max(city) for city in temps]\n",
    "day_of_highest_temp = [city.index(max(city)) + 1 for city in temps]\n",
    "average_temp_each_city = [sum(city) / len(city) for city in temps]\n",
    "\n",
    "print(\"Highest temperature of each city:\", highest_temp_each_city)\n",
    "print(\"Day of highest temperature for each city:\", day_of_highest_temp)\n",
    "print(\"Average maximum temperature of each city:\", average_temp_each_city)\n",
    "\n"
   ]
  },
  {
   "cell_type": "code",
   "execution_count": 5,
   "id": "d1c0994a-14c1-4300-b411-1acebc2937be",
   "metadata": {},
   "outputs": [
    {
     "name": "stdout",
     "output_type": "stream",
     "text": [
      "Modified Matrix:\n",
      "[1, 0, 1]\n",
      "[0, 0, 0]\n",
      "[1, 0, 1]\n"
     ]
    }
   ],
   "source": [
    "#5. Set Matrix Row and Column to 0 If an Element is 0\n",
    "matrix = [\n",
    "    [1, 1, 1],\n",
    "    [1, 0, 1],\n",
    "    [1, 1, 1]\n",
    "]\n",
    "\n",
    "rows, cols = len(matrix), len(matrix[0])\n",
    "zero_rows, zero_cols = set(), set()\n",
    "\n",
    "for i in range(rows):\n",
    "    for j in range(cols):\n",
    "        if matrix[i][j] == 0:\n",
    "            zero_rows.add(i)\n",
    "            zero_cols.add(j)\n",
    "\n",
    "for i in zero_rows:\n",
    "    for j in range(cols):\n",
    "        matrix[i][j] = 0\n",
    "\n",
    "for j in zero_cols:\n",
    "    for i in range(rows):\n",
    "        matrix[i][j] = 0\n",
    "\n",
    "print(\"Modified Matrix:\")\n",
    "for row in matrix:\n",
    "    print(row)\n",
    "\n"
   ]
  },
  {
   "cell_type": "code",
   "execution_count": null,
   "id": "65def2e0-ea12-4ae1-954f-5ff34f31d0c9",
   "metadata": {},
   "outputs": [],
   "source": []
  }
 ],
 "metadata": {
  "kernelspec": {
   "display_name": "Python 3 (ipykernel)",
   "language": "python",
   "name": "python3"
  },
  "language_info": {
   "codemirror_mode": {
    "name": "ipython",
    "version": 3
   },
   "file_extension": ".py",
   "mimetype": "text/x-python",
   "name": "python",
   "nbconvert_exporter": "python",
   "pygments_lexer": "ipython3",
   "version": "3.11.7"
  }
 },
 "nbformat": 4,
 "nbformat_minor": 5
}
