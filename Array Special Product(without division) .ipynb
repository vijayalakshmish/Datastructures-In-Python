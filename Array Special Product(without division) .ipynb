{
 "cells": [
  {
   "cell_type": "code",
   "execution_count": 1,
   "id": "88fbaaf0-00e7-491a-97eb-56d07e7f3cd6",
   "metadata": {},
   "outputs": [
    {
     "name": "stdout",
     "output_type": "stream",
     "text": [
      "Original Array :  [1 2 3 4 5]\n",
      "Product Array :  [120  60  40  30  24]\n"
     ]
    }
   ],
   "source": [
    "#Array Special Product - without division\n",
    "\n",
    "import numpy as np\n",
    "x = np.array([1,2,3,4,5])\n",
    "def sp_without_division(x):\n",
    "    n = len(x)\n",
    "    res = [1]*n\n",
    "    for i in range(n):\n",
    "        for j in range(n):\n",
    "            if i !=j:\n",
    "                res[i] *= x[j]\n",
    "    return np.array(res)\n",
    "print(\"Original Array : \",x)\n",
    "result = sp_without_division(x)\n",
    "print(\"Product Array : \",result)"
   ]
  },
  {
   "cell_type": "code",
   "execution_count": null,
   "id": "cc157566-4101-4463-9e46-26b9f77e30f7",
   "metadata": {},
   "outputs": [],
   "source": []
  }
 ],
 "metadata": {
  "kernelspec": {
   "display_name": "Python 3 (ipykernel)",
   "language": "python",
   "name": "python3"
  },
  "language_info": {
   "codemirror_mode": {
    "name": "ipython",
    "version": 3
   },
   "file_extension": ".py",
   "mimetype": "text/x-python",
   "name": "python",
   "nbconvert_exporter": "python",
   "pygments_lexer": "ipython3",
   "version": "3.11.7"
  }
 },
 "nbformat": 4,
 "nbformat_minor": 5
}
