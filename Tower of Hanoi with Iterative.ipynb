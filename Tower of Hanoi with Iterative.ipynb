{
 "cells": [
  {
   "cell_type": "code",
   "execution_count": 1,
   "id": "4ad21cbd-d8f3-4e55-a9b7-da450a038874",
   "metadata": {},
   "outputs": [
    {
     "name": "stdin",
     "output_type": "stream",
     "text": [
      "Enter the number of disks:  3\n"
     ]
    },
    {
     "name": "stdout",
     "output_type": "stream",
     "text": [
      "Move 1: Move disk from A to C\n",
      "Move 2: Move disk from A to B\n",
      "Move 3: Move disk from C to B\n",
      "Move 4: Move disk from A to C\n",
      "Move 5: Move disk from B to A\n",
      "Move 6: Move disk from B to C\n",
      "Move 7: Move disk from A to C\n",
      "\n",
      "Total moves taken: 7\n"
     ]
    }
   ],
   "source": [
    "#Tower of Hanoi without recursion\n",
    "\n",
    "def tower_of_hanoi_iterative(n):\n",
    "    moves = []\n",
    "    total_moves = (1 << n) - 1  # 2^n - 1 formula\n",
    "    rods = {1: 'A', 2: 'B', 3: 'C'}\n",
    "    \n",
    "    if n % 2 == 0:\n",
    "        rods[2], rods[3] = rods[3], rods[2]  # Swap destination and auxiliary for even disks\n",
    "    \n",
    "    for move in range(1, total_moves + 1):\n",
    "        from_rod = rods[(move & move - 1) % 3 + 1]\n",
    "        to_rod = rods[((move | move - 1) + 1) % 3 + 1]\n",
    "        moves.append(f\"Move {move}: Move disk from {from_rod} to {to_rod}\")\n",
    "    \n",
    "    for move in moves:\n",
    "        print(move)\n",
    "    \n",
    "    print(f\"\\nTotal moves taken: {len(moves)}\")\n",
    "\n",
    "# Example usage\n",
    "n = int(input(\"Enter the number of disks: \"))\n",
    "tower_of_hanoi_iterative(n)\n",
    "\n",
    "        "
   ]
  },
  {
   "cell_type": "code",
   "execution_count": null,
   "id": "f446b5c4-3ff5-474b-9387-a92c9356908b",
   "metadata": {},
   "outputs": [],
   "source": []
  }
 ],
 "metadata": {
  "kernelspec": {
   "display_name": "Python 3 (ipykernel)",
   "language": "python",
   "name": "python3"
  },
  "language_info": {
   "codemirror_mode": {
    "name": "ipython",
    "version": 3
   },
   "file_extension": ".py",
   "mimetype": "text/x-python",
   "name": "python",
   "nbconvert_exporter": "python",
   "pygments_lexer": "ipython3",
   "version": "3.11.7"
  }
 },
 "nbformat": 4,
 "nbformat_minor": 5
}
