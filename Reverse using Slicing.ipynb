{
 "cells": [
  {
   "cell_type": "code",
   "execution_count": 1,
   "id": "fe6eb406-f3d3-4b3e-b480-e060ac62646e",
   "metadata": {},
   "outputs": [
    {
     "name": "stdout",
     "output_type": "stream",
     "text": [
      "[ 6  3  0 20 10  5]\n",
      "6\n",
      "3\n",
      "0\n",
      "20\n",
      "10\n",
      "5\n"
     ]
    }
   ],
   "source": [
    "#Reverse using Slicing\n",
    "import numpy as np\n",
    "x = np.array([5,10,20,0,3,6])\n",
    "print(x[::-1])\n",
    "\n",
    "#Reverse using Loop\n",
    "n = len(x)\n",
    "for i in range(n-1,-1,-1):\n",
    "    print(x[i])"
   ]
  },
  {
   "cell_type": "code",
   "execution_count": null,
   "id": "3d198e58-49ca-480e-97c5-c610e02ca9ef",
   "metadata": {},
   "outputs": [],
   "source": []
  }
 ],
 "metadata": {
  "kernelspec": {
   "display_name": "Python 3 (ipykernel)",
   "language": "python",
   "name": "python3"
  },
  "language_info": {
   "codemirror_mode": {
    "name": "ipython",
    "version": 3
   },
   "file_extension": ".py",
   "mimetype": "text/x-python",
   "name": "python",
   "nbconvert_exporter": "python",
   "pygments_lexer": "ipython3",
   "version": "3.11.7"
  }
 },
 "nbformat": 4,
 "nbformat_minor": 5
}
