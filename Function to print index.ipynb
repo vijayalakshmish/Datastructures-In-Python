{
 "cells": [
  {
   "cell_type": "code",
   "execution_count": 1,
   "id": "7c9bfa69-3df3-4ff6-80ba-d9a174ee838b",
   "metadata": {},
   "outputs": [
    {
     "name": "stdin",
     "output_type": "stream",
     "text": [
      "enter an element :  3\n"
     ]
    },
    {
     "name": "stdout",
     "output_type": "stream",
     "text": [
      "2\n"
     ]
    }
   ],
   "source": [
    "#function to print index of element with user input\n",
    "\n",
    "from array import *\n",
    "\n",
    "arr = array('i',[1,2,3,4,5])\n",
    "a = int(input(\"enter an element : \"))\n",
    "if a in arr :\n",
    "    print(arr.index(a))\n",
    "\n",
    "def index(arr,a):\n",
    "    try:\n",
    "        return arr.index(a)\n",
    "\n",
    "    except ValueError :\n",
    "        return -1\n"
   ]
  },
  {
   "cell_type": "code",
   "execution_count": 2,
   "id": "863b5df0-5aa8-416e-ab54-784bab5bb65b",
   "metadata": {},
   "outputs": [
    {
     "name": "stdout",
     "output_type": "stream",
     "text": [
      "array('i', [1])\n"
     ]
    },
    {
     "data": {
      "text/plain": [
       "array.array"
      ]
     },
     "execution_count": 2,
     "metadata": {},
     "output_type": "execute_result"
    }
   ],
   "source": [
    "arr1 = array('i',[1,2,3,4,5])\n",
    "arr2 = array('i',[6,7,8,9,1])\n",
    "arr3 = set(arr1)\n",
    "arr4 = set(arr2)\n",
    "inter = arr3 & arr4\n",
    "x = array('i',inter)\n",
    "print(x)\n",
    "type(x)"
   ]
  },
  {
   "cell_type": "code",
   "execution_count": null,
   "id": "18628813-f40b-4ad9-8270-2f5c9e02a623",
   "metadata": {},
   "outputs": [],
   "source": []
  }
 ],
 "metadata": {
  "kernelspec": {
   "display_name": "Python 3 (ipykernel)",
   "language": "python",
   "name": "python3"
  },
  "language_info": {
   "codemirror_mode": {
    "name": "ipython",
    "version": 3
   },
   "file_extension": ".py",
   "mimetype": "text/x-python",
   "name": "python",
   "nbconvert_exporter": "python",
   "pygments_lexer": "ipython3",
   "version": "3.11.7"
  }
 },
 "nbformat": 4,
 "nbformat_minor": 5
}
