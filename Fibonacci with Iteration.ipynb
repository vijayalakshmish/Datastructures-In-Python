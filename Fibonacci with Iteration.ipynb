{
 "cells": [
  {
   "cell_type": "code",
   "execution_count": 1,
   "id": "37d44765-11f8-49b8-8a09-26b39e40baed",
   "metadata": {},
   "outputs": [
    {
     "name": "stdin",
     "output_type": "stream",
     "text": [
      "Enter the number of terms:  7\n"
     ]
    },
    {
     "name": "stdout",
     "output_type": "stream",
     "text": [
      "Fibonacci Series: [0, 1, 1, 2, 3, 5, 8]\n"
     ]
    }
   ],
   "source": [
    "#Fibonacci without Recursion\n",
    "\n",
    "def fibonacci_iterative(n):\n",
    "    if n <= 0:\n",
    "        return []\n",
    "    elif n == 1:\n",
    "        return [0]\n",
    "    \n",
    "    fib = [0, 1]  # Initializing the first two Fibonacci numbers\n",
    "    for i in range(2, n):\n",
    "        fib.append(fib[i-1] + fib[i-2])  # Compute the next number and append\n",
    "    \n",
    "    return fib\n",
    "\n",
    "# Take user input\n",
    "num = int(input(\"Enter the number of terms: \"))\n",
    "\n",
    "# Generate and print Fibonacci series\n",
    "print(\"Fibonacci Series:\", fibonacci_iterative(num))"
   ]
  },
  {
   "cell_type": "code",
   "execution_count": null,
   "id": "f79423df-749a-41c5-b183-bcd80f317528",
   "metadata": {},
   "outputs": [],
   "source": []
  }
 ],
 "metadata": {
  "kernelspec": {
   "display_name": "Python 3 (ipykernel)",
   "language": "python",
   "name": "python3"
  },
  "language_info": {
   "codemirror_mode": {
    "name": "ipython",
    "version": 3
   },
   "file_extension": ".py",
   "mimetype": "text/x-python",
   "name": "python",
   "nbconvert_exporter": "python",
   "pygments_lexer": "ipython3",
   "version": "3.11.7"
  }
 },
 "nbformat": 4,
 "nbformat_minor": 5
}
