{
 "cells": [
  {
   "cell_type": "code",
   "execution_count": 2,
   "id": "a09e48e3-5a85-435b-bbf8-32cc37743a21",
   "metadata": {},
   "outputs": [
    {
     "name": "stdout",
     "output_type": "stream",
     "text": [
      "(0, 20)\n"
     ]
    }
   ],
   "source": [
    "# min and Max\n",
    "import numpy as np\n",
    "x = np.array([5,10,20,0,3,6])\n",
    "def excercise1(x):\n",
    "    min_ele = np.min(x)\n",
    "    max_ele = np.max(x)\n",
    "    return min_ele , max_ele\n",
    "\n",
    "result = excercise1(x)\n",
    "print(result)"
   ]
  },
  {
   "cell_type": "code",
   "execution_count": null,
   "id": "b7d826ab-9457-46c1-b8d2-ac76d29d81e8",
   "metadata": {},
   "outputs": [],
   "source": []
  }
 ],
 "metadata": {
  "kernelspec": {
   "display_name": "Python 3 (ipykernel)",
   "language": "python",
   "name": "python3"
  },
  "language_info": {
   "codemirror_mode": {
    "name": "ipython",
    "version": 3
   },
   "file_extension": ".py",
   "mimetype": "text/x-python",
   "name": "python",
   "nbconvert_exporter": "python",
   "pygments_lexer": "ipython3",
   "version": "3.11.7"
  }
 },
 "nbformat": 4,
 "nbformat_minor": 5
}
