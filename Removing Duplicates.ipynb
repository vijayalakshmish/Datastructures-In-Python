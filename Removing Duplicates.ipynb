{
 "cells": [
  {
   "cell_type": "code",
   "execution_count": 1,
   "id": "0c30580d-6f19-47b8-9700-86808d0f17fd",
   "metadata": {},
   "outputs": [
    {
     "name": "stdout",
     "output_type": "stream",
     "text": [
      "[5, 10, 20, 0, 3, 6]\n"
     ]
    }
   ],
   "source": [
    "#Removing Duplicate\n",
    "import numpy as np\n",
    "x = np.array([5,10,20,0,3,6])\n",
    "def rem_dup(x):\n",
    "    new_arr = []\n",
    "    for i in x:\n",
    "        if i not in new_arr :\n",
    "            new_arr.append(i)\n",
    "    return new_arr\n",
    "\n",
    "result = rem_dup(x)\n",
    "print(result)"
   ]
  },
  {
   "cell_type": "code",
   "execution_count": 2,
   "id": "d96ef24e-259c-4edc-9f33-1e6aa9777f6c",
   "metadata": {},
   "outputs": [
    {
     "name": "stdout",
     "output_type": "stream",
     "text": [
      "[ 0  3  5  6 10 20]\n"
     ]
    }
   ],
   "source": [
    "#use type conversion \n",
    "def r_dup(x):\n",
    "    res = list(set(x))\n",
    "    return np.array(res)\n",
    "\n",
    "result = r_dup(x)\n",
    "type(result)\n",
    "print(result)"
   ]
  },
  {
   "cell_type": "code",
   "execution_count": null,
   "id": "f728d010-20b2-45e4-84a9-401e4cf9f74f",
   "metadata": {},
   "outputs": [],
   "source": []
  }
 ],
 "metadata": {
  "kernelspec": {
   "display_name": "Python 3 (ipykernel)",
   "language": "python",
   "name": "python3"
  },
  "language_info": {
   "codemirror_mode": {
    "name": "ipython",
    "version": 3
   },
   "file_extension": ".py",
   "mimetype": "text/x-python",
   "name": "python",
   "nbconvert_exporter": "python",
   "pygments_lexer": "ipython3",
   "version": "3.11.7"
  }
 },
 "nbformat": 4,
 "nbformat_minor": 5
}
