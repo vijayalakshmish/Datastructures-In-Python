{
 "cells": [
  {
   "cell_type": "code",
   "execution_count": null,
   "id": "756ea64c-4107-4481-88bd-7975c7d4ab7b",
   "metadata": {},
   "outputs": [],
   "source": [
    "#create array using user input\n",
    "import array\n",
    "\n",
    "# Create an empty integer array\n",
    "arr = array.array('i', [])\n",
    "\n",
    "# Get the number of elements from the user\n",
    "n = int(input(\"Enter the number of elements: \"))\n",
    "\n",
    "# Take user input and append to the array\n",
    "for i in range(n):\n",
    "    element = int(input(f\"Enter element {i+1}: \"))  # Ensure input is an integer\n",
    "    arr.append(element)\n",
    "\n",
    "# Print the final array\n",
    "print(\"Final array:\", arr)\n",
    "type(arr)"
   ]
  },
  {
   "cell_type": "code",
   "execution_count": null,
   "id": "3a49d50c-40c7-41cd-a3b4-e8f03821e785",
   "metadata": {},
   "outputs": [],
   "source": []
  }
 ],
 "metadata": {
  "kernelspec": {
   "display_name": "Python 3 (ipykernel)",
   "language": "python",
   "name": "python3"
  },
  "language_info": {
   "codemirror_mode": {
    "name": "ipython",
    "version": 3
   },
   "file_extension": ".py",
   "mimetype": "text/x-python",
   "name": "python",
   "nbconvert_exporter": "python",
   "pygments_lexer": "ipython3",
   "version": "3.11.7"
  }
 },
 "nbformat": 4,
 "nbformat_minor": 5
}
