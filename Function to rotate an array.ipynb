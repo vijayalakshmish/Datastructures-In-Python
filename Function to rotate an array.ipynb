{
 "cells": [
  {
   "cell_type": "code",
   "execution_count": 1,
   "id": "5cc815d3-b4b0-4ea4-84e9-0b55cd435cd0",
   "metadata": {},
   "outputs": [
    {
     "name": "stdout",
     "output_type": "stream",
     "text": [
      "[4, 5, 1, 2, 3]\n"
     ]
    }
   ],
   "source": [
    "#function to rotate an array to the right by k positions\n",
    "\n",
    "def rotate(arr , k):\n",
    "    n = len(arr)\n",
    "    k = k%n\n",
    "    return arr[-k:] + arr[:-k]\n",
    "\n",
    "arr = [1,2,3,4,5]\n",
    "k = 2\n",
    "rotated = rotate(arr,k)\n",
    "print(rotated)"
   ]
  },
  {
   "cell_type": "code",
   "execution_count": null,
   "id": "aad33190-0655-44fb-bf67-5aab7a85454d",
   "metadata": {},
   "outputs": [],
   "source": []
  }
 ],
 "metadata": {
  "kernelspec": {
   "display_name": "Python 3 (ipykernel)",
   "language": "python",
   "name": "python3"
  },
  "language_info": {
   "codemirror_mode": {
    "name": "ipython",
    "version": 3
   },
   "file_extension": ".py",
   "mimetype": "text/x-python",
   "name": "python",
   "nbconvert_exporter": "python",
   "pygments_lexer": "ipython3",
   "version": "3.11.7"
  }
 },
 "nbformat": 4,
 "nbformat_minor": 5
}
