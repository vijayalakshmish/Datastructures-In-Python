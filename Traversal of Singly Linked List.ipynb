{
 "cells": [
  {
   "cell_type": "code",
   "execution_count": 1,
   "id": "0750cb50-79b5-4ce8-832f-9a302eda860a",
   "metadata": {},
   "outputs": [
    {
     "name": "stdout",
     "output_type": "stream",
     "text": [
      "1 ->  2 ->  3 ->  4 ->  None\n"
     ]
    }
   ],
   "source": [
    "# Python Program for traversal of Singly Linked list\n",
    "class Node:\n",
    "    def __init__(self, data):\n",
    "        self.data = data\n",
    "        self.next = None\n",
    "\n",
    "def append(head, data):\n",
    "    new_node = Node(data)\n",
    "    new_node.next = head\n",
    "    return new_node\n",
    "        \n",
    "def display(head):\n",
    "    current = head\n",
    "    while current:\n",
    "        # Print the current node's data followed by an arrow and space\n",
    "        print(str(current.data) + \" -> \", end=\" \")\n",
    "        current = current.next\n",
    "    # At the end of the list, print None to indicate no further nodes\n",
    "    print(\"None\")\n",
    "\n",
    "# Singly linked list created and its head stored in a variable named \"head\"\n",
    "head = None\n",
    "head = append(head, 4)\n",
    "head = append(head, 3)\n",
    "head = append(head, 2)\n",
    "head = append(head, 1)\n",
    "\n",
    "# To traverse and print the nodes:\n",
    "display(head)"
   ]
  },
  {
   "cell_type": "code",
   "execution_count": null,
   "id": "d4301e68-bdaf-4412-98a6-a3d50d0738ab",
   "metadata": {},
   "outputs": [],
   "source": []
  }
 ],
 "metadata": {
  "kernelspec": {
   "display_name": "Python 3 (ipykernel)",
   "language": "python",
   "name": "python3"
  },
  "language_info": {
   "codemirror_mode": {
    "name": "ipython",
    "version": 3
   },
   "file_extension": ".py",
   "mimetype": "text/x-python",
   "name": "python",
   "nbconvert_exporter": "python",
   "pygments_lexer": "ipython3",
   "version": "3.11.7"
  }
 },
 "nbformat": 4,
 "nbformat_minor": 5
}
