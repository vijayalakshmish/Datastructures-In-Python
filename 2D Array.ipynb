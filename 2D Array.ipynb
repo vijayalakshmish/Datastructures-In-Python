{
 "cells": [
  {
   "cell_type": "code",
   "execution_count": 1,
   "id": "c5ea7a0b-3463-4478-be6b-90089b28ddfa",
   "metadata": {},
   "outputs": [
    {
     "name": "stdout",
     "output_type": "stream",
     "text": [
      "23\n",
      "11 12 13 \n",
      "21 22 23 \n",
      "31 32 33 \n"
     ]
    }
   ],
   "source": [
    "x = [[11,12,13],\n",
    "     [21,22,23],\n",
    "     [31,32,33]\n",
    "    ]\n",
    "#access of the element of 2d array\n",
    "op = x[1][2]\n",
    "print(op)\n",
    "\n",
    "#traverse all elements\n",
    "for i in x:                 #row\n",
    "    for j in i :           #column\n",
    "        print(j , end=' ')\n",
    "    print()"
   ]
  },
  {
   "cell_type": "code",
   "execution_count": null,
   "id": "353df980-2fdb-4750-ab59-26c1be1a547d",
   "metadata": {},
   "outputs": [],
   "source": []
  }
 ],
 "metadata": {
  "kernelspec": {
   "display_name": "Python 3 (ipykernel)",
   "language": "python",
   "name": "python3"
  },
  "language_info": {
   "codemirror_mode": {
    "name": "ipython",
    "version": 3
   },
   "file_extension": ".py",
   "mimetype": "text/x-python",
   "name": "python",
   "nbconvert_exporter": "python",
   "pygments_lexer": "ipython3",
   "version": "3.11.7"
  }
 },
 "nbformat": 4,
 "nbformat_minor": 5
}
