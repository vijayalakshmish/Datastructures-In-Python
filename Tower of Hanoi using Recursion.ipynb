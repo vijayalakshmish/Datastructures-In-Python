{
 "cells": [
  {
   "cell_type": "code",
   "execution_count": 1,
   "id": "c4ff23bd-5867-4836-9f94-2de40f1a2fc7",
   "metadata": {},
   "outputs": [
    {
     "name": "stdin",
     "output_type": "stream",
     "text": [
      "Enter the number of disks:  3\n"
     ]
    },
    {
     "name": "stdout",
     "output_type": "stream",
     "text": [
      "Move disk 1 from A to C\n",
      "Move disk 2 from A to B\n",
      "Move disk 1 from C to B\n",
      "Move disk 3 from A to C\n",
      "Move disk 1 from B to A\n",
      "Move disk 2 from B to C\n",
      "Move disk 1 from A to C\n",
      "Total moves taken: 7\n"
     ]
    }
   ],
   "source": [
    "#Tower of Hanoi using recursion\n",
    "def tower_of_hanoi(n, source, destination, auxiliary, move_counter):\n",
    "    if n == 1:\n",
    "        move_counter[0] += 1\n",
    "        print(f\"Move disk 1 from {source} to {destination}\")\n",
    "        return\n",
    "    \n",
    "    tower_of_hanoi(n - 1, source, auxiliary, destination, move_counter)\n",
    "    move_counter[0] += 1\n",
    "    print(f\"Move disk {n} from {source} to {destination}\")\n",
    "    tower_of_hanoi(n - 1, auxiliary, destination, source, move_counter)\n",
    "\n",
    "n = int(input(\"Enter the number of disks: \"))\n",
    "move_counter = [0]\n",
    "tower_of_hanoi(n, 'A', 'C', 'B', move_counter)\n",
    "print(f\"Total moves taken: {move_counter[0]}\")\n"
   ]
  },
  {
   "cell_type": "code",
   "execution_count": null,
   "id": "d2efc32d-e170-449b-aed3-134c1ed6dc39",
   "metadata": {},
   "outputs": [],
   "source": []
  }
 ],
 "metadata": {
  "kernelspec": {
   "display_name": "Python 3 (ipykernel)",
   "language": "python",
   "name": "python3"
  },
  "language_info": {
   "codemirror_mode": {
    "name": "ipython",
    "version": 3
   },
   "file_extension": ".py",
   "mimetype": "text/x-python",
   "name": "python",
   "nbconvert_exporter": "python",
   "pygments_lexer": "ipython3",
   "version": "3.11.7"
  }
 },
 "nbformat": 4,
 "nbformat_minor": 5
}
