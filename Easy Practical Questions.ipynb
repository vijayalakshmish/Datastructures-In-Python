{
 "cells": [
  {
   "cell_type": "code",
   "execution_count": 9,
   "id": "e6077f1b-8174-431d-8b8f-75ff3199df58",
   "metadata": {},
   "outputs": [
    {
     "name": "stdin",
     "output_type": "stream",
     "text": [
      "Enter number of elements:  5\n",
      "Enter number 1:  1\n",
      "Enter number 2:  2\n",
      "Enter number 3:  3\n",
      "Enter number 4:  4\n",
      "Enter number 5:  5\n"
     ]
    },
    {
     "name": "stdout",
     "output_type": "stream",
     "text": [
      "Smallest element: 1\n"
     ]
    }
   ],
   "source": [
    "#1.Find the Smallest Element Among N Inputted Numbers\n",
    "import array\n",
    "\n",
    "import array\n",
    "\n",
    "n = int(input(\"Enter number of elements: \"))\n",
    "arr = array.array('i', [])\n",
    "\n",
    "for i in range(n):\n",
    "    num = int(input(f\"Enter number {i+1}: \"))\n",
    "    arr.append(num)\n",
    "\n",
    "smallest = min(arr)\n",
    "print(\"Smallest element:\", smallest)\n"
   ]
  },
  {
   "cell_type": "code",
   "execution_count": 10,
   "id": "8f7a2d64-0df2-4351-9c96-a468a680a636",
   "metadata": {},
   "outputs": [
    {
     "name": "stdin",
     "output_type": "stream",
     "text": [
      "Enter number of elements:  4\n",
      "Enter number 1:  3 \n",
      "Enter number 2:  5\n",
      "Enter number 3:  8\n",
      "Enter number 4:  0\n"
     ]
    },
    {
     "name": "stdout",
     "output_type": "stream",
     "text": [
      "Reversed array: array('i', [0, 8, 5, 3])\n"
     ]
    }
   ],
   "source": [
    "#2.Reverse an Array Without Using a Second Array\n",
    "\n",
    "import array\n",
    "\n",
    "n = int(input(\"Enter number of elements: \"))\n",
    "arr = array.array('i', [])\n",
    "\n",
    "for i in range(n):\n",
    "    num = int(input(f\"Enter number {i+1}: \"))\n",
    "    arr.append(num)\n",
    "\n",
    "# Reverse in place\n",
    "for i in range(n // 2):\n",
    "    arr[i], arr[n - i - 1] = arr[n - i - 1], arr[i]\n",
    "\n",
    "print(\"Reversed array:\", arr)\n"
   ]
  },
  {
   "cell_type": "code",
   "execution_count": 15,
   "id": "330f0348-03cc-4084-ba03-5fea34af78c3",
   "metadata": {},
   "outputs": [
    {
     "name": "stdin",
     "output_type": "stream",
     "text": [
      "Enter number of elements:  5\n",
      "Enter number 1:  2\n",
      "Enter number 2:  4\n",
      "Enter number 3:  6\n",
      "Enter number 4:  7\n",
      "Enter number 5:  8\n"
     ]
    },
    {
     "name": "stdout",
     "output_type": "stream",
     "text": [
      "Standard Deviation: 2.1540659228538\n"
     ]
    }
   ],
   "source": [
    "# 3. Program to calculate standard deviation of N numbers\n",
    "n = int(input(\"Enter number of elements: \"))\n",
    "sum_x, sum_x2 = 0, 0\n",
    "for i in range(n):\n",
    "    num = int(input(f\"Enter number {i+1}: \"))\n",
    "    sum_x += num\n",
    "    sum_x2 += num * num\n",
    "mean = sum_x / n\n",
    "variance = (sum_x2 / n) - (mean ** 2)\n",
    "print(\"Standard Deviation:\", variance ** 0.5)"
   ]
  },
  {
   "cell_type": "code",
   "execution_count": 16,
   "id": "a7bc2de6-b14c-423b-8373-bcb31c2d7c2d",
   "metadata": {},
   "outputs": [
    {
     "name": "stdin",
     "output_type": "stream",
     "text": [
      "Enter number of elements:  5\n",
      "Enter number 1:  3\n",
      "Enter number 2:  54\n",
      "Enter number 3:  5\n",
      "Enter number 4:  6\n",
      "Enter number 5:  7\n"
     ]
    },
    {
     "name": "stdout",
     "output_type": "stream",
     "text": [
      "Total odd numbers: 3\n"
     ]
    }
   ],
   "source": [
    "# 4. Program to count odd numbers in a set of integers\n",
    "n = int(input(\"Enter number of elements: \"))\n",
    "count = 0\n",
    "for i in range(n):\n",
    "    if int(input(f\"Enter number {i+1}: \")) % 2 != 0:\n",
    "        count += 1\n",
    "print(\"Total odd numbers:\", count)\n"
   ]
  },
  {
   "cell_type": "code",
   "execution_count": 17,
   "id": "b88b24e1-5c63-45a2-b936-07719464c557",
   "metadata": {},
   "outputs": [
    {
     "name": "stdin",
     "output_type": "stream",
     "text": [
      "Enter number of elements:  4\n",
      "Enter number 1:  2\n",
      "Enter number 2:  3\n",
      "Enter number 3:  4\n",
      "Enter number 4:  6\n"
     ]
    },
    {
     "name": "stdout",
     "output_type": "stream",
     "text": [
      "Largest odd number: 3\n"
     ]
    }
   ],
   "source": [
    "#5. Program to find the largest odd number in a set of integers\n",
    "n = int(input(\"Enter number of elements: \"))\n",
    "max_odd = -1\n",
    "for i in range(n):\n",
    "    num = int(input(f\"Enter number {i+1}: \"))\n",
    "    if num % 2 != 0 and num > max_odd:\n",
    "        max_odd = num\n",
    "print(\"Largest odd number:\", max_odd)"
   ]
  },
  {
   "cell_type": "code",
   "execution_count": 21,
   "id": "e24915ee-ea0e-4f3f-b92f-c440ec0b73cf",
   "metadata": {},
   "outputs": [
    {
     "name": "stdin",
     "output_type": "stream",
     "text": [
      "Enter number of elements:  4\n",
      "Enter number 1:  1\n",
      "Enter number 2:  2\n",
      "Enter number 3:  3\n",
      "Enter number 4:  4\n"
     ]
    },
    {
     "name": "stdout",
     "output_type": "stream",
     "text": [
      "Total prime numbers: 2\n"
     ]
    }
   ],
   "source": [
    "# 6. Program to count the total number of prime numbers in a set of integers\n",
    "def is_prime(x):\n",
    "    if x < 2:\n",
    "        return False\n",
    "    for i in range(2, int(x ** 0.5) + 1):\n",
    "        if x % i == 0:\n",
    "            return False\n",
    "    return True\n",
    "\n",
    "n = int(input(\"Enter number of elements: \"))\n",
    "count = sum(1 for i in range(n) if is_prime(int(input(f\"Enter number {i+1}: \"))))\n",
    "print(\"Total prime numbers:\", count)"
   ]
  },
  {
   "cell_type": "code",
   "execution_count": 23,
   "id": "ba0d67d9-e413-498c-bf90-4a847b92e989",
   "metadata": {},
   "outputs": [
    {
     "name": "stdin",
     "output_type": "stream",
     "text": [
      "Enter number of elements:  3\n",
      "Enter number 1:  5\n",
      "Enter number 2:  7\n",
      "Enter number 3:  9\n"
     ]
    },
    {
     "name": "stdout",
     "output_type": "stream",
     "text": [
      "Second highest number: 7\n"
     ]
    }
   ],
   "source": [
    "# 7.Program to find the second highest element among N numbers\n",
    "n = int(input(\"Enter number of elements: \"))\n",
    "max1, max2 = float('-inf'), float('-inf')\n",
    "for i in range(n):\n",
    "    num = int(input(f\"Enter number {i+1}: \"))\n",
    "    if num > max1:\n",
    "        max2, max1 = max1, num\n",
    "    elif max1 > num > max2:\n",
    "        max2 = num\n",
    "print(\"Second highest number:\", max2)"
   ]
  },
  {
   "cell_type": "code",
   "execution_count": 24,
   "id": "473dfa12-2809-435a-8945-a2a745038436",
   "metadata": {},
   "outputs": [
    {
     "name": "stdin",
     "output_type": "stream",
     "text": [
      "Enter number of elements:  4\n",
      "Enter number 1:  2\n",
      "Enter number 2:  8\n",
      "Enter number 3:  0\n",
      "Enter number 4:  5\n"
     ]
    },
    {
     "name": "stdout",
     "output_type": "stream",
     "text": [
      "Largest difference: 8\n"
     ]
    }
   ],
   "source": [
    "#8.Program to find the largest difference in a set of numbers\n",
    "n = int(input(\"Enter number of elements: \"))\n",
    "min_val, max_val = float('inf'), float('-inf')\n",
    "for i in range(n):\n",
    "    num = int(input(f\"Enter number {i+1}: \"))\n",
    "    if num < min_val:\n",
    "        min_val = num\n",
    "    if num > max_val:\n",
    "        max_val = num\n",
    "print(\"Largest difference:\", max_val - min_val)"
   ]
  },
  {
   "cell_type": "code",
   "execution_count": 26,
   "id": "9ea49284-7182-4dad-aa6d-97b58bbbc50b",
   "metadata": {},
   "outputs": [
    {
     "name": "stdin",
     "output_type": "stream",
     "text": [
      "Enter decimal number:  2.344565\n"
     ]
    },
    {
     "name": "stdout",
     "output_type": "stream",
     "text": [
      "Binary equivalent: 1.00.3445649999999998\n"
     ]
    }
   ],
   "source": [
    "# 9.Program to find the binary equivalent of a decimal number\n",
    "num = float(input(\"Enter decimal number: \"))\n",
    "binary = \"\"\n",
    "while num > 0:\n",
    "    binary = str(num % 2) + binary\n",
    "    num //= 2\n",
    "print(\"Binary equivalent:\", binary if binary else \"0\")"
   ]
  },
  {
   "cell_type": "code",
   "execution_count": 28,
   "id": "bf479b1e-0b53-4d29-8018-2337b16d8245",
   "metadata": {},
   "outputs": [
    {
     "name": "stdin",
     "output_type": "stream",
     "text": [
      "Enter number of elements:  2\n",
      "Enter number:  1\n",
      "Enter number:  4\n",
      "Enter position to delete:  1\n"
     ]
    },
    {
     "name": "stdout",
     "output_type": "stream",
     "text": [
      "Array after deletion: [4]\n"
     ]
    }
   ],
   "source": [
    "# 10.Program to delete an element from the k-th position of an array\n",
    "n = int(input(\"Enter number of elements: \"))\n",
    "arr = [int(input(\"Enter number: \")) for _ in range(n)]\n",
    "k = int(input(\"Enter position to delete: \")) - 1\n",
    "for i in range(k, n - 1):\n",
    "    arr[i] = arr[i + 1]\n",
    "print(\"Array after deletion:\", arr[:n-1])"
   ]
  },
  {
   "cell_type": "code",
   "execution_count": 12,
   "id": "0b9c5aa6-b8ec-4d9c-976f-f6f7bd1bca5d",
   "metadata": {},
   "outputs": [
    {
     "name": "stdin",
     "output_type": "stream",
     "text": [
      "Enter number of elements:  5\n",
      "Enter sorted number 1:  4\n",
      "Enter sorted number 2:  8\n",
      "Enter sorted number 3:  9\n",
      "Enter sorted number 4:  3\n",
      "Enter sorted number 5:  1\n",
      "Enter number to insert:  12\n"
     ]
    },
    {
     "name": "stdout",
     "output_type": "stream",
     "text": [
      "Updated array: array('i', [4, 8, 9, 3, 1, 12])\n"
     ]
    }
   ],
   "source": [
    "#11. Insert an Element at Its Proper Position in a Sorted Array\n",
    "\n",
    "import array\n",
    "\n",
    "n = int(input(\"Enter number of elements: \"))\n",
    "arr = array.array('i', [])\n",
    "\n",
    "for i in range(n):\n",
    "    num = int(input(f\"Enter sorted number {i+1}: \"))\n",
    "    arr.append(num)\n",
    "\n",
    "x = int(input(\"Enter number to insert: \"))\n",
    "\n",
    "# Insert at the correct position\n",
    "i = 0\n",
    "while i < len(arr) and arr[i] < x:\n",
    "    i += 1\n",
    "arr.insert(i, x)\n",
    "\n",
    "print(\"Updated array:\", arr)\n",
    "\n"
   ]
  },
  {
   "cell_type": "code",
   "execution_count": 30,
   "id": "0aa333cc-4f07-4cb1-b6b6-4f5c7294f24e",
   "metadata": {},
   "outputs": [
    {
     "name": "stdin",
     "output_type": "stream",
     "text": [
      "Enter number of elements in set1:  2\n",
      "Enter number 1:  1\n",
      "Enter number 2:  2\n",
      "Enter number of elements in set2:  2\n",
      "Enter number 1:  4\n",
      "Enter number 2:  6\n"
     ]
    },
    {
     "name": "stdout",
     "output_type": "stream",
     "text": [
      "Union of sets: {1, 2, 4, 6}\n"
     ]
    }
   ],
   "source": [
    "# 12.Program to find the union of two sets of numbers\n",
    "n = int(input(\"Enter number of elements in set1: \"))\n",
    "set1 = {int(input(f\"Enter number {i+1}: \")) for i in range(n)}\n",
    "m = int(input(\"Enter number of elements in set2: \"))\n",
    "set2 = {int(input(f\"Enter number {i+1}: \")) for i in range(m)}\n",
    "print(\"Union of sets:\", set1 | set2)"
   ]
  },
  {
   "cell_type": "code",
   "execution_count": null,
   "id": "20572ae8-a946-4645-8551-3809245ba71f",
   "metadata": {},
   "outputs": [],
   "source": []
  }
 ],
 "metadata": {
  "kernelspec": {
   "display_name": "Python 3 (ipykernel)",
   "language": "python",
   "name": "python3"
  },
  "language_info": {
   "codemirror_mode": {
    "name": "ipython",
    "version": 3
   },
   "file_extension": ".py",
   "mimetype": "text/x-python",
   "name": "python",
   "nbconvert_exporter": "python",
   "pygments_lexer": "ipython3",
   "version": "3.11.7"
  }
 },
 "nbformat": 4,
 "nbformat_minor": 5
}
