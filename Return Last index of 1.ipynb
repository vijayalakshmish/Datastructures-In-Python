{
 "cells": [
  {
   "cell_type": "code",
   "execution_count": 1,
   "id": "9c59d077-d875-4657-94cf-075ff1dc0386",
   "metadata": {},
   "outputs": [
    {
     "name": "stdout",
     "output_type": "stream",
     "text": [
      "Last occurance of 1 :  9\n"
     ]
    }
   ],
   "source": [
    "#Last index of 1\n",
    "import array \n",
    "import numpy as np\n",
    "arr = np.array([0,1,1,1,1,0,0,0,0,1])\n",
    "def last_1(arr):\n",
    "    index = -1\n",
    "    n = len(arr)\n",
    "    for i in range(n):\n",
    "        if arr[i] == 1:\n",
    "            index = i\n",
    "\n",
    "    return index\n",
    "print(\"Last occurance of 1 : \",last_1(arr))"
   ]
  },
  {
   "cell_type": "code",
   "execution_count": null,
   "id": "9fbebfdd-2300-4e82-96ba-43e3be05795b",
   "metadata": {},
   "outputs": [],
   "source": []
  }
 ],
 "metadata": {
  "kernelspec": {
   "display_name": "Python 3 (ipykernel)",
   "language": "python",
   "name": "python3"
  },
  "language_info": {
   "codemirror_mode": {
    "name": "ipython",
    "version": 3
   },
   "file_extension": ".py",
   "mimetype": "text/x-python",
   "name": "python",
   "nbconvert_exporter": "python",
   "pygments_lexer": "ipython3",
   "version": "3.11.7"
  }
 },
 "nbformat": 4,
 "nbformat_minor": 5
}
