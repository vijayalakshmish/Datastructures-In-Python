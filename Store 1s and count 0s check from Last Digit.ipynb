{
 "cells": [
  {
   "cell_type": "code",
   "execution_count": 2,
   "id": "a70983a8-eed5-4511-8bf8-70cba1bb755f",
   "metadata": {},
   "outputs": [
    {
     "name": "stdout",
     "output_type": "stream",
     "text": [
      "Number of 0's in Array :  6\n",
      "Stored array is :  [1, 1, 1, 1, 1]\n",
      "Array with 1 followed 0 are: [1, 1, 1, 1, 1, 0, 0, 0, 0, 0, 0]\n"
     ]
    }
   ],
   "source": [
    "#Store 1s and count 0s check from last digit\n",
    "import numpy as np\n",
    "arr = np.array([0,1,0,1,0,1,0,0,1,1,0])\n",
    "count = 0\n",
    "ar_store  = []\n",
    "for i in reversed(arr):\n",
    "    if i == 0:\n",
    "        count += 1\n",
    "\n",
    "    elif i == 1:\n",
    "        ar_store.append(i)\n",
    "print(\"Number of 0's in Array : \",count)\n",
    "print(\"Stored array is : \",ar_store)\n",
    "print(\"Array with 1 followed 0 are:\",ar_store+[0]*count)"
   ]
  },
  {
   "cell_type": "code",
   "execution_count": null,
   "id": "931e49cd-ee0a-476b-afea-cd202c07b39b",
   "metadata": {},
   "outputs": [],
   "source": []
  }
 ],
 "metadata": {
  "kernelspec": {
   "display_name": "Python 3 (ipykernel)",
   "language": "python",
   "name": "python3"
  },
  "language_info": {
   "codemirror_mode": {
    "name": "ipython",
    "version": 3
   },
   "file_extension": ".py",
   "mimetype": "text/x-python",
   "name": "python",
   "nbconvert_exporter": "python",
   "pygments_lexer": "ipython3",
   "version": "3.11.7"
  }
 },
 "nbformat": 4,
 "nbformat_minor": 5
}
