{
 "cells": [
  {
   "cell_type": "code",
   "execution_count": 1,
   "id": "3b52a589-94bf-4ce7-996b-8395401d2cef",
   "metadata": {},
   "outputs": [
    {
     "name": "stdout",
     "output_type": "stream",
     "text": [
      "Toys\n",
      "Gifts\n"
     ]
    }
   ],
   "source": [
    "class supermarket:\n",
    "    def purchase(unique):\n",
    "        print(\"Toys\")\n",
    "        print(\"Gifts\")\n",
    "customer = supermarket()\n",
    "customer.purchase()"
   ]
  },
  {
   "cell_type": "code",
   "execution_count": null,
   "id": "d8f58cf6-d451-499e-92b3-c90d00826e87",
   "metadata": {},
   "outputs": [],
   "source": []
  }
 ],
 "metadata": {
  "kernelspec": {
   "display_name": "Python 3 (ipykernel)",
   "language": "python",
   "name": "python3"
  },
  "language_info": {
   "codemirror_mode": {
    "name": "ipython",
    "version": 3
   },
   "file_extension": ".py",
   "mimetype": "text/x-python",
   "name": "python",
   "nbconvert_exporter": "python",
   "pygments_lexer": "ipython3",
   "version": "3.11.7"
  }
 },
 "nbformat": 4,
 "nbformat_minor": 5
}
