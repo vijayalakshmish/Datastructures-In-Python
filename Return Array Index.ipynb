{
 "cells": [
  {
   "cell_type": "code",
   "execution_count": 3,
   "id": "728b0063-6593-4f7c-ba27-e7de079cf417",
   "metadata": {},
   "outputs": [
    {
     "name": "stdin",
     "output_type": "stream",
     "text": [
      "enter the number :  20\n"
     ]
    },
    {
     "name": "stdout",
     "output_type": "stream",
     "text": [
      "1\n"
     ]
    }
   ],
   "source": [
    "#array index\n",
    "import numpy as np\n",
    "x = np.array([10,20,30,40,50])\n",
    "def index_arr(x,ele):\n",
    "    try :\n",
    "        n = len(x)\n",
    "        for i in range(n):\n",
    "            if x[i] == ele:\n",
    "                return i \n",
    "        raise ValueError(\"element not found\")\n",
    "    except :\n",
    "        return -1\n",
    "ele = int(input(\"enter the number : \"))\n",
    "result = index_arr(x,ele)\n",
    "print(result)"
   ]
  },
  {
   "cell_type": "code",
   "execution_count": null,
   "id": "f47b0bb1-3a30-49e9-88a2-9a642375f1f5",
   "metadata": {},
   "outputs": [],
   "source": []
  }
 ],
 "metadata": {
  "kernelspec": {
   "display_name": "Python 3 (ipykernel)",
   "language": "python",
   "name": "python3"
  },
  "language_info": {
   "codemirror_mode": {
    "name": "ipython",
    "version": 3
   },
   "file_extension": ".py",
   "mimetype": "text/x-python",
   "name": "python",
   "nbconvert_exporter": "python",
   "pygments_lexer": "ipython3",
   "version": "3.11.7"
  }
 },
 "nbformat": 4,
 "nbformat_minor": 5
}
