{
 "cells": [
  {
   "cell_type": "code",
   "execution_count": 1,
   "id": "f27bad93-5822-4c7d-a08d-dea21ca1eda7",
   "metadata": {},
   "outputs": [
    {
     "name": "stdout",
     "output_type": "stream",
     "text": [
      "Name of the student is : Afreen\n",
      "Age of the student is : 20\n"
     ]
    }
   ],
   "source": [
    "#create a class with name and age\n",
    "class Stud:\n",
    "    def __init__(self,name,age):\n",
    "        self.name = name\n",
    "        self.age = age   \n",
    "\n",
    "stu = Stud(\"Afreen\",20)\n",
    "print(\"Name of the student is :\",stu.name)\n",
    "print(\"Age of the student is :\",stu.age)"
   ]
  },
  {
   "cell_type": "code",
   "execution_count": null,
   "id": "a4f3310a-811c-4203-9284-e7c8307e9978",
   "metadata": {},
   "outputs": [],
   "source": []
  }
 ],
 "metadata": {
  "kernelspec": {
   "display_name": "Python 3 (ipykernel)",
   "language": "python",
   "name": "python3"
  },
  "language_info": {
   "codemirror_mode": {
    "name": "ipython",
    "version": 3
   },
   "file_extension": ".py",
   "mimetype": "text/x-python",
   "name": "python",
   "nbconvert_exporter": "python",
   "pygments_lexer": "ipython3",
   "version": "3.11.7"
  }
 },
 "nbformat": 4,
 "nbformat_minor": 5
}
