{
 "cells": [
  {
   "cell_type": "code",
   "execution_count": 2,
   "id": "f01fde58-7352-4c01-840d-3ffea874d4c3",
   "metadata": {},
   "outputs": [
    {
     "name": "stdout",
     "output_type": "stream",
     "text": [
      "[[1. 1. 1.]\n",
      " [1. 1. 1.]]\n",
      "[[1 1 1]\n",
      " [1 1 1]]\n"
     ]
    }
   ],
   "source": [
    "import numpy as np\n",
    "y = np.ones((2,3))  #float values\n",
    "print(y)\n",
    "\n",
    "#integer values\n",
    "y = np.ones((2,3),dtype = np.int32)\n",
    "print(y)"
   ]
  },
  {
   "cell_type": "code",
   "execution_count": 3,
   "id": "a62d7a69-e5a2-4ef1-bd16-f544fbad5bc0",
   "metadata": {},
   "outputs": [
    {
     "name": "stdout",
     "output_type": "stream",
     "text": [
      "[[0 0]\n",
      " [0 0]\n",
      " [0 0]]\n"
     ]
    }
   ],
   "source": [
    "z = np.zeros((3,2),dtype=np.int32)\n",
    "print(z)"
   ]
  },
  {
   "cell_type": "code",
   "execution_count": 4,
   "id": "f4a50d56-ec05-47d8-b0c3-a686c5102e01",
   "metadata": {},
   "outputs": [
    {
     "name": "stdout",
     "output_type": "stream",
     "text": [
      "[[(1, 1.) (1, 1.)]\n",
      " [(1, 1.) (1, 1.)]\n",
      " [(1, 1.) (1, 1.)]]\n"
     ]
    }
   ],
   "source": [
    "z = np.ones((3,2),dtype = [('m','int'),('n','float')])\n",
    "print(z)"
   ]
  },
  {
   "cell_type": "code",
   "execution_count": 5,
   "id": "8e92ac92-95f1-437b-8ce6-4d16638942ff",
   "metadata": {},
   "outputs": [
    {
     "name": "stdout",
     "output_type": "stream",
     "text": [
      "[[ 1  3  5  7]\n",
      " [ 9 11 13 15]\n",
      " [17 19 21 23]]\n"
     ]
    }
   ],
   "source": [
    "#range values using arange\n",
    "w = np.arange(1,24,2).reshape(3,4) #if reshape not defined values in sequential order i.e 1D\n",
    "print(w)"
   ]
  },
  {
   "cell_type": "code",
   "execution_count": null,
   "id": "7e5a61f6-8753-4df7-84a5-f319e6ef12dc",
   "metadata": {},
   "outputs": [],
   "source": []
  }
 ],
 "metadata": {
  "kernelspec": {
   "display_name": "Python 3 (ipykernel)",
   "language": "python",
   "name": "python3"
  },
  "language_info": {
   "codemirror_mode": {
    "name": "ipython",
    "version": 3
   },
   "file_extension": ".py",
   "mimetype": "text/x-python",
   "name": "python",
   "nbconvert_exporter": "python",
   "pygments_lexer": "ipython3",
   "version": "3.11.7"
  }
 },
 "nbformat": 4,
 "nbformat_minor": 5
}
