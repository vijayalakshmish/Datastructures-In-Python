{
 "cells": [
  {
   "cell_type": "code",
   "execution_count": 1,
   "id": "ade87b4b-4b1e-47af-b8d7-7885047ce874",
   "metadata": {},
   "outputs": [
    {
     "name": "stdout",
     "output_type": "stream",
     "text": [
      "[1, 3, 12, 0, 0]\n"
     ]
    }
   ],
   "source": [
    "#1. Move Zeroes to the End\n",
    "arr = [0, 1, 0, 3, 12]\n",
    "new_arr = [x for x in arr if x != 0] + [0] * arr.count(0)\n",
    "print(new_arr)  # Output: [1, 3, 12, 0, 0]\n",
    "\n"
   ]
  },
  {
   "cell_type": "code",
   "execution_count": 2,
   "id": "3fa7535c-62f4-472d-9a66-f4e946ff75d8",
   "metadata": {},
   "outputs": [
    {
     "name": "stdout",
     "output_type": "stream",
     "text": [
      "[4, 5, 1, 2, 3]\n"
     ]
    }
   ],
   "source": [
    "#2. Array Rotation (Right Shift by k positions)\n",
    "arr = [1, 2, 3, 4, 5]\n",
    "k = 2\n",
    "k = k % len(arr)  # To handle large k values\n",
    "new_arr = arr[-k:] + arr[:-k]\n",
    "print(new_arr)  # Output: [4, 5, 1, 2, 3]\n"
   ]
  },
  {
   "cell_type": "code",
   "execution_count": 3,
   "id": "f31b0ffe-6cf8-4447-8ce5-24f35ed7a81f",
   "metadata": {},
   "outputs": [
    {
     "name": "stdout",
     "output_type": "stream",
     "text": [
      "[24, 12, 8, 6]\n"
     ]
    }
   ],
   "source": [
    "#3. Product of All Elements Except Itself\n",
    "arr = [1, 2, 3, 4]\n",
    "n = len(arr)\n",
    "left = [1] * n\n",
    "right = [1] * n\n",
    "output = [1] * n\n",
    "\n",
    "for i in range(1, n):\n",
    "    left[i] = left[i - 1] * arr[i - 1]\n",
    "for i in range(n - 2, -1, -1):\n",
    "    right[i] = right[i + 1] * arr[i + 1]\n",
    "for i in range(n):\n",
    "    output[i] = left[i] * right[i]\n",
    "\n",
    "print(output)  # Output: [24, 12, 8, 6]\n"
   ]
  },
  {
   "cell_type": "code",
   "execution_count": 4,
   "id": "2547021b-3310-40f7-89ec-fa011956bbf2",
   "metadata": {},
   "outputs": [
    {
     "name": "stdout",
     "output_type": "stream",
     "text": [
      "[0, 1]\n"
     ]
    }
   ],
   "source": [
    "#4. Two Sum Problem\n",
    "arr = [2, 7, 11, 15]\n",
    "target = 9\n",
    "for i in range(len(arr)):\n",
    "    for j in range(i + 1, len(arr)):\n",
    "        if arr[i] + arr[j] == target:\n",
    "            print([i, j])  # Output: [0, 1]\n",
    "            break\n"
   ]
  },
  {
   "cell_type": "code",
   "execution_count": 5,
   "id": "7b4f8635-48a1-4df4-affe-259f1faf98a4",
   "metadata": {},
   "outputs": [
    {
     "name": "stdout",
     "output_type": "stream",
     "text": [
      "2\n"
     ]
    }
   ],
   "source": [
    "#5. Minimum Number of Jumps to Reach End\n",
    "arr = [6, 2, 4, 0, 5, 1, 1, 4, 2, 9]\n",
    "n = len(arr)\n",
    "jumps = 0\n",
    "pos = 0\n",
    "while pos < n - 1:\n",
    "    max_reach = pos + arr[pos]\n",
    "    if max_reach >= n - 1:\n",
    "        jumps += 1\n",
    "        break\n",
    "    next_pos = pos\n",
    "    for i in range(pos + 1, max_reach + 1):\n",
    "        if i + arr[i] > next_pos + arr[next_pos]:\n",
    "            next_pos = i\n",
    "    pos = next_pos\n",
    "    jumps += 1\n",
    "\n",
    "print(jumps)  # Output: 2\n"
   ]
  },
  {
   "cell_type": "code",
   "execution_count": 6,
   "id": "8aaecae3-011b-4eb2-9fda-87d64a0b3831",
   "metadata": {},
   "outputs": [
    {
     "name": "stdout",
     "output_type": "stream",
     "text": [
      "[0, 0, 1, 1, 2, 2]\n"
     ]
    }
   ],
   "source": [
    "#6. Sort Colors (Dutch National Flag Problem)\n",
    "arr = [2, 0, 2, 1, 1, 0]\n",
    "low, mid, high = 0, 0, len(arr) - 1\n",
    "\n",
    "while mid <= high:\n",
    "    if arr[mid] == 0:\n",
    "        arr[low], arr[mid] = arr[mid], arr[low]\n",
    "        low += 1\n",
    "        mid += 1\n",
    "    elif arr[mid] == 1:\n",
    "        mid += 1\n",
    "    else:\n",
    "        arr[mid], arr[high] = arr[high], arr[mid]\n",
    "        high -= 1\n",
    "\n",
    "print(arr)  # Output: [0, 0, 1, 1, 2, 2]\n"
   ]
  },
  {
   "cell_type": "code",
   "execution_count": 7,
   "id": "f13b2b04-50af-4984-9420-bc43609feb61",
   "metadata": {},
   "outputs": [
    {
     "name": "stdout",
     "output_type": "stream",
     "text": [
      "6\n"
     ]
    }
   ],
   "source": [
    "#7. Trapping Rain Water\n",
    "arr = [0, 1, 0, 2, 1, 0, 1, 3, 2, 1, 2, 1]\n",
    "n = len(arr)\n",
    "left_max, right_max = [0] * n, [0] * n\n",
    "left_max[0] = arr[0]\n",
    "right_max[-1] = arr[-1]\n",
    "\n",
    "for i in range(1, n):\n",
    "    left_max[i] = max(left_max[i - 1], arr[i])\n",
    "for i in range(n - 2, -1, -1):\n",
    "    right_max[i] = max(right_max[i + 1], arr[i])\n",
    "\n",
    "water = 0\n",
    "for i in range(n):\n",
    "    water += min(left_max[i], right_max[i]) - arr[i]\n",
    "\n",
    "print(water)  # Output: 6\n"
   ]
  },
  {
   "cell_type": "code",
   "execution_count": null,
   "id": "d4413bcc-8583-4bc1-9448-5d9a4ee9830c",
   "metadata": {},
   "outputs": [],
   "source": []
  }
 ],
 "metadata": {
  "kernelspec": {
   "display_name": "Python 3 (ipykernel)",
   "language": "python",
   "name": "python3"
  },
  "language_info": {
   "codemirror_mode": {
    "name": "ipython",
    "version": 3
   },
   "file_extension": ".py",
   "mimetype": "text/x-python",
   "name": "python",
   "nbconvert_exporter": "python",
   "pygments_lexer": "ipython3",
   "version": "3.11.7"
  }
 },
 "nbformat": 4,
 "nbformat_minor": 5
}
