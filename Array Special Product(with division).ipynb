{
 "cells": [
  {
   "cell_type": "code",
   "execution_count": 1,
   "id": "68c89165-52ab-4e21-bd9d-5dd1d28593fb",
   "metadata": {},
   "outputs": [
    {
     "name": "stdout",
     "output_type": "stream",
     "text": [
      "Original Array :  [1 2 3 4 5]\n",
      "Product Array :  [120, 60, 40, 30, 24]\n"
     ]
    }
   ],
   "source": [
    "#Array Special Product - with division\n",
    "\n",
    "import numpy as np\n",
    "import math \n",
    "x = np.array([1,2,3,4,5])\n",
    "def sp_without_division(x):\n",
    "    product = math.prod(x)\n",
    "    new_arr = []\n",
    "    for i in range(len(x)):\n",
    "        res = product // x[i]\n",
    "        new_arr.append(res)  \n",
    "    return new_arr\n",
    "print(\"Original Array : \",x)\n",
    "result = sp_without_division(x)\n",
    "print(\"Product Array : \",result)"
   ]
  },
  {
   "cell_type": "code",
   "execution_count": null,
   "id": "b295689e-6bdb-4267-a5b0-70eeca61cf7e",
   "metadata": {},
   "outputs": [],
   "source": []
  }
 ],
 "metadata": {
  "kernelspec": {
   "display_name": "Python 3 (ipykernel)",
   "language": "python",
   "name": "python3"
  },
  "language_info": {
   "codemirror_mode": {
    "name": "ipython",
    "version": 3
   },
   "file_extension": ".py",
   "mimetype": "text/x-python",
   "name": "python",
   "nbconvert_exporter": "python",
   "pygments_lexer": "ipython3",
   "version": "3.11.7"
  }
 },
 "nbformat": 4,
 "nbformat_minor": 5
}
