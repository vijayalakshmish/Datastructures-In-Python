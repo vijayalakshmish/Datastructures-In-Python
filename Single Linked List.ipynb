{
 "cells": [
  {
   "cell_type": "code",
   "execution_count": 1,
   "id": "6097e3dd-136e-4827-be2f-8d6500f97d12",
   "metadata": {},
   "outputs": [
    {
     "name": "stdin",
     "output_type": "stream",
     "text": [
      " 12\n",
      "continue? y/n :  y\n",
      " 45\n",
      "continue? y/n :  y\n",
      " 78\n",
      "continue? y/n :  y\n",
      " 60\n",
      "continue? y/n :  n\n"
     ]
    },
    {
     "name": "stdout",
     "output_type": "stream",
     "text": [
      "The list is : \n",
      "12-->45-->78-->60-->None\n"
     ]
    }
   ],
   "source": [
    "#Create linked Lists\n",
    "\n",
    "#declaration of node structure\n",
    "class Node:\n",
    "    def __init__(self,Newdata = None,link = None):\n",
    "        self.data = Newdata\n",
    "        self.next = link\n",
    "\n",
    "class SingleLinkedList:\n",
    "    def __init__(self):\n",
    "        self.head = None\n",
    "\n",
    "    def createlist(self):\n",
    "        self.head = Node()\n",
    "        cur = self.head\n",
    "        while True:\n",
    "            cur.data = int(input())\n",
    "            ch = input(\"continue? y/n : \")\n",
    "            if ch.upper() == 'Y':\n",
    "                cur.next = Node()\n",
    "                cur = cur.next\n",
    "\n",
    "            else :\n",
    "                cur.next = None\n",
    "                break\n",
    "\n",
    "    def display(self):\n",
    "        cur =self.head\n",
    "        while cur!= None :\n",
    "            print(cur.data,end = \"-->\")\n",
    "            cur = cur.next\n",
    "        print(\"None\")\n",
    "\n",
    "head  = SingleLinkedList()\n",
    "head.createlist()\n",
    "print(\"The list is : \")\n",
    "head.display()"
   ]
  },
  {
   "cell_type": "code",
   "execution_count": null,
   "id": "d3a0489f-57aa-4830-ba7f-01f0c0f57b8c",
   "metadata": {},
   "outputs": [],
   "source": []
  }
 ],
 "metadata": {
  "kernelspec": {
   "display_name": "Python 3 (ipykernel)",
   "language": "python",
   "name": "python3"
  },
  "language_info": {
   "codemirror_mode": {
    "name": "ipython",
    "version": 3
   },
   "file_extension": ".py",
   "mimetype": "text/x-python",
   "name": "python",
   "nbconvert_exporter": "python",
   "pygments_lexer": "ipython3",
   "version": "3.11.7"
  }
 },
 "nbformat": 4,
 "nbformat_minor": 5
}
