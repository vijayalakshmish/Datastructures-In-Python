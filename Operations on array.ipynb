{
 "cells": [
  {
   "cell_type": "code",
   "execution_count": 1,
   "id": "1c3292f3-3f7a-4f6f-bdfb-a26eac04b441",
   "metadata": {},
   "outputs": [
    {
     "name": "stdout",
     "output_type": "stream",
     "text": [
      "2\n",
      "10\n",
      "0\n",
      "15\n",
      "55\n"
     ]
    }
   ],
   "source": [
    "#iterating over an array\n",
    "import array as arr\n",
    "x=arr.array('i',[2,10,0,15,55])\n",
    "type(x)\n",
    "for i in x:\n",
    "    print(i)"
   ]
  },
  {
   "cell_type": "code",
   "execution_count": 2,
   "id": "6fc70673-a9d2-4184-b6ae-4f9eea367fc4",
   "metadata": {},
   "outputs": [
    {
     "name": "stdout",
     "output_type": "stream",
     "text": [
      "2\n",
      "55\n"
     ]
    }
   ],
   "source": [
    "#accessing element using index value from an array\n",
    "\n",
    "import numpy as np\n",
    "x=np.array([2,10,0,15,55])\n",
    "type(x)\n",
    "print(x[0])\n",
    "print(x[4])"
   ]
  },
  {
   "cell_type": "code",
   "execution_count": 8,
   "id": "c53565a3-661e-41ed-ac80-57f5e1fa3989",
   "metadata": {},
   "outputs": [
    {
     "name": "stdout",
     "output_type": "stream",
     "text": [
      "2\n",
      "10\n",
      "0\n",
      "20\n",
      "15\n",
      "55\n"
     ]
    }
   ],
   "source": [
    "#inserting an element in an array\n",
    "\n",
    "import array as ar\n",
    "x=arr.array('i',[2,10,0,15,55])\n",
    "type(x)\n",
    "x.insert(3,20)\n",
    "for i in x:\n",
    "    print(i)"
   ]
  },
  {
   "cell_type": "code",
   "execution_count": 9,
   "id": "f5e48631-3e30-464c-a254-3af11e33b1d2",
   "metadata": {},
   "outputs": [
    {
     "name": "stdout",
     "output_type": "stream",
     "text": [
      "2\n",
      "0\n",
      "20\n",
      "15\n",
      "55\n"
     ]
    }
   ],
   "source": [
    "#remove element from an array\n",
    "x.remove(10)\n",
    "for i in x:\n",
    "    print(i)"
   ]
  },
  {
   "cell_type": "code",
   "execution_count": 10,
   "id": "e683ac1e-68cf-4877-8694-fa1a679846b3",
   "metadata": {},
   "outputs": [
    {
     "data": {
      "text/plain": [
       "1"
      ]
     },
     "execution_count": 10,
     "metadata": {},
     "output_type": "execute_result"
    }
   ],
   "source": [
    "#access element through index value\n",
    "x.index(0)"
   ]
  },
  {
   "cell_type": "code",
   "execution_count": 11,
   "id": "574f0ecc-fd95-4097-926d-abb6143a750b",
   "metadata": {},
   "outputs": [
    {
     "name": "stdout",
     "output_type": "stream",
     "text": [
      "2\n",
      "1\n",
      "20\n",
      "15\n",
      "55\n"
     ]
    }
   ],
   "source": [
    "#update \n",
    "x[1] = 1\n",
    "for i in x:\n",
    "    print(i)"
   ]
  },
  {
   "cell_type": "code",
   "execution_count": null,
   "id": "f88f555d-7481-4fca-86e0-cb4a75132240",
   "metadata": {},
   "outputs": [],
   "source": []
  },
  {
   "cell_type": "code",
   "execution_count": null,
   "id": "d019741e-6f76-4812-8ed4-9951e37742c1",
   "metadata": {},
   "outputs": [],
   "source": []
  }
 ],
 "metadata": {
  "kernelspec": {
   "display_name": "Python 3 (ipykernel)",
   "language": "python",
   "name": "python3"
  },
  "language_info": {
   "codemirror_mode": {
    "name": "ipython",
    "version": 3
   },
   "file_extension": ".py",
   "mimetype": "text/x-python",
   "name": "python",
   "nbconvert_exporter": "python",
   "pygments_lexer": "ipython3",
   "version": "3.11.7"
  }
 },
 "nbformat": 4,
 "nbformat_minor": 5
}
