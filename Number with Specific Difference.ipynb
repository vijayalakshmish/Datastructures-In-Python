{
 "cells": [
  {
   "cell_type": "code",
   "execution_count": 1,
   "id": "a8390e28-ff03-46f5-935d-943509754fde",
   "metadata": {},
   "outputs": [
    {
     "name": "stdout",
     "output_type": "stream",
     "text": [
      "4\n"
     ]
    }
   ],
   "source": [
    "#All numbers with specific difference\n",
    "n = 13\n",
    "d = 2\n",
    "low = 1\n",
    "high = 13\n",
    "while low<=high:\n",
    "    mid = (high+low)//2\n",
    "    sum_d = sum(int(digit) for digit in str(mid))\n",
    "    diff  = mid - sum_d\n",
    "    if abs(diff)<=2:\n",
    "        low = mid + 1\n",
    "    else :\n",
    "        high = mid - 1\n",
    "result = n - high\n",
    "print(result)"
   ]
  },
  {
   "cell_type": "code",
   "execution_count": null,
   "id": "8d7b5a62-9d1d-492f-a001-b3bc381b3105",
   "metadata": {},
   "outputs": [],
   "source": []
  }
 ],
 "metadata": {
  "kernelspec": {
   "display_name": "Python 3 (ipykernel)",
   "language": "python",
   "name": "python3"
  },
  "language_info": {
   "codemirror_mode": {
    "name": "ipython",
    "version": 3
   },
   "file_extension": ".py",
   "mimetype": "text/x-python",
   "name": "python",
   "nbconvert_exporter": "python",
   "pygments_lexer": "ipython3",
   "version": "3.11.7"
  }
 },
 "nbformat": 4,
 "nbformat_minor": 5
}
