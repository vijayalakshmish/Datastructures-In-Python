{
 "cells": [
  {
   "cell_type": "code",
   "execution_count": 3,
   "id": "d2e45285-628c-4216-9a83-b10683315285",
   "metadata": {},
   "outputs": [
    {
     "name": "stdout",
     "output_type": "stream",
     "text": [
      "[[ 1  3  5  7]\n",
      " [ 9 11 13 15]\n",
      " [17 19 21 23]]\n"
     ]
    }
   ],
   "source": [
    "#range values using arange\n",
    "import numpy as np\n",
    "w = np.arange(1,24,2).reshape(3,4) #if reshape not defined values in sequential order i.e 1D\n",
    "print(w)"
   ]
  },
  {
   "cell_type": "code",
   "execution_count": 4,
   "id": "fdacbcd1-d660-41ab-8679-15aa132a2b87",
   "metadata": {},
   "outputs": [
    {
     "name": "stdout",
     "output_type": "stream",
     "text": [
      "Row 0 is : [1 3 5 7]\n",
      "Row 1 is : [ 9 11 13 15]\n",
      "Row 2 is : [17 19 21 23]\n",
      "Row -3 is : [1 3 5 7]\n"
     ]
    }
   ],
   "source": [
    "#print particular row\n",
    "print(\"Row 0 is :\",w[0])\n",
    "print(\"Row 1 is :\",w[1])\n",
    "print(\"Row 2 is :\",w[2])\n",
    "print(\"Row -3 is :\",w[-3])  #negative indexing"
   ]
  },
  {
   "cell_type": "code",
   "execution_count": 5,
   "id": "0198fd7d-76d6-454f-9006-e20162459f82",
   "metadata": {},
   "outputs": [
    {
     "name": "stdout",
     "output_type": "stream",
     "text": [
      "Row 1 and 2 is :  [[ 1  3  5  7]\n",
      " [ 9 11 13 15]]\n",
      "Row 2 and 3 is :  [[ 9 11 13 15]\n",
      " [17 19 21 23]]\n"
     ]
    }
   ],
   "source": [
    "#SPrinting pecific Row (Slicing)\n",
    "print(\"Row 1 and 2 is : \",w[0:2])\n",
    "print(\"Row 2 and 3 is : \",w[1:])"
   ]
  },
  {
   "cell_type": "code",
   "execution_count": 6,
   "id": "e50bfa92-c066-48ec-ad4f-7a53fce55422",
   "metadata": {},
   "outputs": [
    {
     "name": "stdout",
     "output_type": "stream",
     "text": [
      "[[17 19 21 23]\n",
      " [ 9 11 13 15]\n",
      " [ 1  3  5  7]]\n"
     ]
    }
   ],
   "source": [
    "#Reverse an array\n",
    "print(w[::-1])"
   ]
  },
  {
   "cell_type": "code",
   "execution_count": 7,
   "id": "cb68569f-8a96-40c3-9248-726043c6c6fc",
   "metadata": {},
   "outputs": [
    {
     "name": "stdout",
     "output_type": "stream",
     "text": [
      "column 0 is :  [ 1  9 17]\n",
      "column 1 is :  [ 3 11 19]\n",
      "column 2 is :  [ 5 13 21]\n",
      "column 2 is :  [ 7 15 23]\n"
     ]
    }
   ],
   "source": [
    "#columns access\n",
    "print(\"column 0 is : \",w[:,0])\n",
    "print(\"column 1 is : \",w[:,1])\n",
    "print(\"column 2 is : \",w[:,2])\n",
    "print(\"column 2 is : \",w[:,-1])    #negative indexing"
   ]
  },
  {
   "cell_type": "code",
   "execution_count": null,
   "id": "f57cd6ee-7101-49c0-a826-982a7f88af44",
   "metadata": {},
   "outputs": [],
   "source": []
  }
 ],
 "metadata": {
  "kernelspec": {
   "display_name": "Python 3 (ipykernel)",
   "language": "python",
   "name": "python3"
  },
  "language_info": {
   "codemirror_mode": {
    "name": "ipython",
    "version": 3
   },
   "file_extension": ".py",
   "mimetype": "text/x-python",
   "name": "python",
   "nbconvert_exporter": "python",
   "pygments_lexer": "ipython3",
   "version": "3.11.7"
  }
 },
 "nbformat": 4,
 "nbformat_minor": 5
}
